{
 "cells": [
  {
   "cell_type": "code",
   "execution_count": 1,
   "id": "3d668961",
   "metadata": {
    "scrolled": true
   },
   "outputs": [
    {
     "name": "stdout",
     "output_type": "stream",
     "text": [
      "Requirement already satisfied: pyvis in c:\\users\\shweata\\appdata\\local\\programs\\python\\python38\\lib\\site-packages (0.3.2)\n"
     ]
    },
    {
     "name": "stderr",
     "output_type": "stream",
     "text": [
      "WARNING: You are using pip version 21.2.4; however, version 23.0.1 is available.\n",
      "You should consider upgrading via the 'C:\\Users\\shweata\\AppData\\Local\\Programs\\Python\\Python38\\python.exe -m pip install --upgrade pip' command.\n"
     ]
    },
    {
     "name": "stdout",
     "output_type": "stream",
     "text": [
      "Requirement already satisfied: jinja2>=2.9.6 in c:\\users\\shweata\\appdata\\local\\programs\\python\\python38\\lib\\site-packages (from pyvis) (3.0.1)\n",
      "Requirement already satisfied: jsonpickle>=1.4.1 in c:\\users\\shweata\\appdata\\local\\programs\\python\\python38\\lib\\site-packages (from pyvis) (3.0.1)\n",
      "Requirement already satisfied: networkx>=1.11 in c:\\users\\shweata\\appdata\\local\\programs\\python\\python38\\lib\\site-packages (from pyvis) (2.6.3)\n",
      "Requirement already satisfied: ipython>=5.3.0 in c:\\users\\shweata\\appdata\\local\\programs\\python\\python38\\lib\\site-packages (from pyvis) (7.24.1)\n",
      "Requirement already satisfied: decorator in c:\\users\\shweata\\appdata\\local\\programs\\python\\python38\\lib\\site-packages (from ipython>=5.3.0->pyvis) (4.4.2)\n",
      "Requirement already satisfied: jedi>=0.16 in c:\\users\\shweata\\appdata\\local\\programs\\python\\python38\\lib\\site-packages (from ipython>=5.3.0->pyvis) (0.18.0)\n",
      "Requirement already satisfied: prompt-toolkit!=3.0.0,!=3.0.1,<3.1.0,>=2.0.0 in c:\\users\\shweata\\appdata\\local\\programs\\python\\python38\\lib\\site-packages (from ipython>=5.3.0->pyvis) (3.0.19)\n",
      "Requirement already satisfied: colorama in c:\\users\\shweata\\appdata\\local\\programs\\python\\python38\\lib\\site-packages (from ipython>=5.3.0->pyvis) (0.4.4)\n",
      "Requirement already satisfied: setuptools>=18.5 in c:\\users\\shweata\\appdata\\local\\programs\\python\\python38\\lib\\site-packages (from ipython>=5.3.0->pyvis) (60.3.1)\n",
      "Requirement already satisfied: traitlets>=4.2 in c:\\users\\shweata\\appdata\\local\\programs\\python\\python38\\lib\\site-packages (from ipython>=5.3.0->pyvis) (5.0.5)\n",
      "Requirement already satisfied: pickleshare in c:\\users\\shweata\\appdata\\local\\programs\\python\\python38\\lib\\site-packages (from ipython>=5.3.0->pyvis) (0.7.5)\n",
      "Requirement already satisfied: backcall in c:\\users\\shweata\\appdata\\local\\programs\\python\\python38\\lib\\site-packages (from ipython>=5.3.0->pyvis) (0.2.0)\n",
      "Requirement already satisfied: pygments in c:\\users\\shweata\\appdata\\local\\programs\\python\\python38\\lib\\site-packages (from ipython>=5.3.0->pyvis) (2.9.0)\n",
      "Requirement already satisfied: matplotlib-inline in c:\\users\\shweata\\appdata\\local\\programs\\python\\python38\\lib\\site-packages (from ipython>=5.3.0->pyvis) (0.1.2)\n",
      "Requirement already satisfied: parso<0.9.0,>=0.8.0 in c:\\users\\shweata\\appdata\\local\\programs\\python\\python38\\lib\\site-packages (from jedi>=0.16->ipython>=5.3.0->pyvis) (0.8.2)\n",
      "Requirement already satisfied: MarkupSafe>=2.0 in c:\\users\\shweata\\appdata\\local\\programs\\python\\python38\\lib\\site-packages (from jinja2>=2.9.6->pyvis) (2.0.1)\n",
      "Requirement already satisfied: wcwidth in c:\\users\\shweata\\appdata\\local\\programs\\python\\python38\\lib\\site-packages (from prompt-toolkit!=3.0.0,!=3.0.1,<3.1.0,>=2.0.0->ipython>=5.3.0->pyvis) (0.2.5)\n",
      "Requirement already satisfied: ipython-genutils in c:\\users\\shweata\\appdata\\local\\programs\\python\\python38\\lib\\site-packages (from traitlets>=4.2->ipython>=5.3.0->pyvis) (0.2.0)\n"
     ]
    }
   ],
   "source": [
    "# https://towardsdatascience.com/pyvis-visualize-interactive-network-graphs-in-python-77e059791f01\n",
    "!pip install pyvis"
   ]
  },
  {
   "cell_type": "code",
   "execution_count": 5,
   "id": "ab019446",
   "metadata": {},
   "outputs": [
    {
     "name": "stdout",
     "output_type": "stream",
     "text": [
      "Warning: When  cdn_resources is 'local' jupyter notebook has issues displaying graphics on chrome/safari. Use cdn_resources='in_line' or cdn_resources='remote' if you have issues viewing graphics in a notebook.\n",
      "ipcc_graph_2.html\n"
     ]
    },
    {
     "data": {
      "text/html": [
       "\n",
       "        <iframe\n",
       "            width=\"100%\"\n",
       "            height=\"750px\"\n",
       "            src=\"ipcc_graph_2.html\"\n",
       "            frameborder=\"0\"\n",
       "            allowfullscreen\n",
       "        ></iframe>\n",
       "        "
      ],
      "text/plain": [
       "<IPython.lib.display.IFrame at 0x1f64cbb3bb0>"
      ]
     },
     "execution_count": 5,
     "metadata": {},
     "output_type": "execute_result"
    }
   ],
   "source": [
    "from pyvis.network import Network\n",
    "import pandas as pd\n",
    "\n",
    "ipcc_net = Network(height=\"750px\", width=\"100%\", bgcolor=\"#222222\", font_color=\"white\", notebook=True)\n",
    "\n",
    "# set the physics layout of the network\n",
    "#ipcc_net.barnes_hut()\n",
    "ipcc_data = pd.read_csv(\"links.csv\")\n",
    "\n",
    "sources = ipcc_data['source']\n",
    "targets = ipcc_data['target']\n",
    "\n",
    "\n",
    "edge_data = zip(sources, targets)\n",
    "\n",
    "for e in edge_data:\n",
    "                src = e[0]\n",
    "                dst = e[1]\n",
    "\n",
    "                ipcc_net.add_node(src, src, title=src, color='blue')\n",
    "                ipcc_net.add_node(dst, dst, title=dst, color='red')\n",
    "                ipcc_net.add_edge(src, dst)\n",
    "\n",
    "neighbor_map = ipcc_net.get_adj_list()\n",
    "\n",
    "# add neighbor data to node hover data\n",
    "for node in ipcc_net.nodes:\n",
    "                node[\"title\"] += \" Neighbors:<br>\" + \"<br>\".join(neighbor_map[node[\"id\"]])\n",
    "                node[\"value\"] = len(neighbor_map[node[\"id\"]])\n",
    "            \n",
    "ipcc_net.show_buttons()          \n",
    "\n",
    "ipcc_net.show(\"ipcc_graph_2.html\", local=True)"
   ]
  }
 ],
 "metadata": {
  "kernelspec": {
   "display_name": "Python 3",
   "language": "python",
   "name": "python3"
  },
  "language_info": {
   "codemirror_mode": {
    "name": "ipython",
    "version": 3
   },
   "file_extension": ".py",
   "mimetype": "text/x-python",
   "name": "python",
   "nbconvert_exporter": "python",
   "pygments_lexer": "ipython3",
   "version": "3.8.10"
  }
 },
 "nbformat": 4,
 "nbformat_minor": 5
}
